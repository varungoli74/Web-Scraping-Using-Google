{
 "cells": [
  {
   "cell_type": "code",
   "execution_count": 3,
   "id": "9af5f229-439f-4d37-a120-ba2c7b4251dd",
   "metadata": {},
   "outputs": [
    {
     "name": "stdin",
     "output_type": "stream",
     "text": [
      "enter something to search: ibm market cap\n"
     ]
    },
    {
     "name": "stdout",
     "output_type": "stream",
     "text": [
      "googling...\n",
      "131.35B\n"
     ]
    }
   ],
   "source": [
    "import requests, webbrowser\n",
    "from bs4 import BeautifulSoup\n",
    "\n",
    "user_input = input(\"enter something to search:\")\n",
    "print(\"googling...\")\n",
    "\n",
    "google_search = requests.get(\"https://www.google.com/search?q=\"+user_input)\n",
    "\n",
    "soup = BeautifulSoup(google_search.text, 'html.parser')\n",
    "\n",
    "temp = soup.find( \"div\" , class_='BNeawe iBp4i AP7Wnd' ).text \n",
    "\n",
    "print(temp)"
   ]
  },
  {
   "cell_type": "code",
   "execution_count": 10,
   "id": "3907e48b-da61-409f-9c5e-1f0451c6d166",
   "metadata": {},
   "outputs": [
    {
     "name": "stdout",
     "output_type": "stream",
     "text": [
      "  Company     Stock search results\n",
      "0     IBM     144.18 +0.00 (0.00%)\n",
      "1     TCS  3,450.10 +28.65 (0.84%)\n",
      "2  Amazon     133.68 +0.00 (0.00%)\n",
      "3   Apple     196.45 +0.00 (0.00%)\n",
      "4  Google     132.72 +0.00 (0.00%)\n"
     ]
    }
   ],
   "source": [
    "import pandas as pd\n",
    "import requests, webbrowser\n",
    "from bs4 import BeautifulSoup\n",
    "\n",
    "List_result = []\n",
    "df_companies = pd.read_excel(\"Companies.xlsx\")\n",
    "\n",
    "for index, row in df_companies.iterrows():\n",
    "    each_comp = row['Company']\n",
    "    user_input = each_comp + \"Stock price\"\n",
    "    google_search = requests.get(\"https://www.google.com/search?q=\"+user_input)\n",
    "    soup = BeautifulSoup(google_search.text, 'html.parser')\n",
    "    temp = soup.find( \"div\" , class_='BNeawe iBp4i AP7Wnd' ).text\n",
    "    List_result.append(temp)\n",
    "\n",
    "df_companies['Stock search results'] = List_result\n",
    "print(df_companies)"
   ]
  }
 ],
 "metadata": {
  "kernelspec": {
   "display_name": "Python 3 (ipykernel)",
   "language": "python",
   "name": "python3"
  },
  "language_info": {
   "codemirror_mode": {
    "name": "ipython",
    "version": 3
   },
   "file_extension": ".py",
   "mimetype": "text/x-python",
   "name": "python",
   "nbconvert_exporter": "python",
   "pygments_lexer": "ipython3",
   "version": "3.10.9"
  }
 },
 "nbformat": 4,
 "nbformat_minor": 5
}
